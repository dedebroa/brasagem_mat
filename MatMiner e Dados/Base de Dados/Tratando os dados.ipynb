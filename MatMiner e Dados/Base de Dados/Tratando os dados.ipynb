{
 "cells": [
  {
   "cell_type": "markdown",
   "metadata": {},
   "source": [
    "## TRATANDO DADOS"
   ]
  },
  {
   "cell_type": "markdown",
   "metadata": {},
   "source": [
    "1. Importação\n",
    "2. Seleção dos Metais\n",
    "3. Featurização (com ela, add colunas que correspondem a propriedades no nosso dataframe)\n",
    "4. Retirada de dados faltantes\n",
    "5. Arquivo picle;\n",
    "\n",
    "Observação: redução do número de linhas"
   ]
  },
  {
   "cell_type": "code",
   "execution_count": 1,
   "metadata": {},
   "outputs": [
    {
     "name": "stderr",
     "output_type": "stream",
     "text": [
      "/home/guilherme/anaconda3/envs/IP_venv/lib/python3.11/site-packages/tqdm/auto.py:21: TqdmWarning: IProgress not found. Please update jupyter and ipywidgets. See https://ipywidgets.readthedocs.io/en/stable/user_install.html\n",
      "  from .autonotebook import tqdm as notebook_tqdm\n"
     ]
    },
    {
     "ename": "FileNotFoundError",
     "evalue": "[Errno 2] No such file or directory: 'Dados.csv'",
     "output_type": "error",
     "traceback": [
      "\u001b[0;31m---------------------------------------------------------------------------\u001b[0m",
      "\u001b[0;31mFileNotFoundError\u001b[0m                         Traceback (most recent call last)",
      "Cell \u001b[0;32mIn[1], line 17\u001b[0m\n\u001b[1;32m      9\u001b[0m \u001b[39mfrom\u001b[39;00m \u001b[39mmatminer\u001b[39;00m\u001b[39m.\u001b[39;00m\u001b[39mfeaturizers\u001b[39;00m\u001b[39m.\u001b[39;00m\u001b[39mcomposition\u001b[39;00m \u001b[39mimport\u001b[39;00m (\n\u001b[1;32m     10\u001b[0m     ElementProperty,\n\u001b[1;32m     11\u001b[0m     ElementFraction,\n\u001b[1;32m     12\u001b[0m     BandCenter,\n\u001b[1;32m     13\u001b[0m )  \u001b[39m# propriedades dos elementos\u001b[39;00m\n\u001b[1;32m     14\u001b[0m \u001b[39mfrom\u001b[39;00m \u001b[39mmatminer\u001b[39;00m\u001b[39m.\u001b[39;00m\u001b[39mfeaturizers\u001b[39;00m\u001b[39m.\u001b[39;00m\u001b[39mstructure\u001b[39;00m \u001b[39mimport\u001b[39;00m DensityFeatures\n\u001b[0;32m---> 17\u001b[0m colunas \u001b[39m=\u001b[39m pd\u001b[39m.\u001b[39mread_csv(\u001b[39m\"\u001b[39m\u001b[39mDados.csv\u001b[39m\u001b[39m\"\u001b[39m)\n\u001b[1;32m     18\u001b[0m colunas\n",
      "File \u001b[0;32m~/anaconda3/envs/IP_venv/lib/python3.11/site-packages/pandas/io/parsers/readers.py:912\u001b[0m, in \u001b[0;36mread_csv\u001b[0;34m(filepath_or_buffer, sep, delimiter, header, names, index_col, usecols, dtype, engine, converters, true_values, false_values, skipinitialspace, skiprows, skipfooter, nrows, na_values, keep_default_na, na_filter, verbose, skip_blank_lines, parse_dates, infer_datetime_format, keep_date_col, date_parser, date_format, dayfirst, cache_dates, iterator, chunksize, compression, thousands, decimal, lineterminator, quotechar, quoting, doublequote, escapechar, comment, encoding, encoding_errors, dialect, on_bad_lines, delim_whitespace, low_memory, memory_map, float_precision, storage_options, dtype_backend)\u001b[0m\n\u001b[1;32m    899\u001b[0m kwds_defaults \u001b[39m=\u001b[39m _refine_defaults_read(\n\u001b[1;32m    900\u001b[0m     dialect,\n\u001b[1;32m    901\u001b[0m     delimiter,\n\u001b[0;32m   (...)\u001b[0m\n\u001b[1;32m    908\u001b[0m     dtype_backend\u001b[39m=\u001b[39mdtype_backend,\n\u001b[1;32m    909\u001b[0m )\n\u001b[1;32m    910\u001b[0m kwds\u001b[39m.\u001b[39mupdate(kwds_defaults)\n\u001b[0;32m--> 912\u001b[0m \u001b[39mreturn\u001b[39;00m _read(filepath_or_buffer, kwds)\n",
      "File \u001b[0;32m~/anaconda3/envs/IP_venv/lib/python3.11/site-packages/pandas/io/parsers/readers.py:577\u001b[0m, in \u001b[0;36m_read\u001b[0;34m(filepath_or_buffer, kwds)\u001b[0m\n\u001b[1;32m    574\u001b[0m _validate_names(kwds\u001b[39m.\u001b[39mget(\u001b[39m\"\u001b[39m\u001b[39mnames\u001b[39m\u001b[39m\"\u001b[39m, \u001b[39mNone\u001b[39;00m))\n\u001b[1;32m    576\u001b[0m \u001b[39m# Create the parser.\u001b[39;00m\n\u001b[0;32m--> 577\u001b[0m parser \u001b[39m=\u001b[39m TextFileReader(filepath_or_buffer, \u001b[39m*\u001b[39m\u001b[39m*\u001b[39mkwds)\n\u001b[1;32m    579\u001b[0m \u001b[39mif\u001b[39;00m chunksize \u001b[39mor\u001b[39;00m iterator:\n\u001b[1;32m    580\u001b[0m     \u001b[39mreturn\u001b[39;00m parser\n",
      "File \u001b[0;32m~/anaconda3/envs/IP_venv/lib/python3.11/site-packages/pandas/io/parsers/readers.py:1407\u001b[0m, in \u001b[0;36mTextFileReader.__init__\u001b[0;34m(self, f, engine, **kwds)\u001b[0m\n\u001b[1;32m   1404\u001b[0m     \u001b[39mself\u001b[39m\u001b[39m.\u001b[39moptions[\u001b[39m\"\u001b[39m\u001b[39mhas_index_names\u001b[39m\u001b[39m\"\u001b[39m] \u001b[39m=\u001b[39m kwds[\u001b[39m\"\u001b[39m\u001b[39mhas_index_names\u001b[39m\u001b[39m\"\u001b[39m]\n\u001b[1;32m   1406\u001b[0m \u001b[39mself\u001b[39m\u001b[39m.\u001b[39mhandles: IOHandles \u001b[39m|\u001b[39m \u001b[39mNone\u001b[39;00m \u001b[39m=\u001b[39m \u001b[39mNone\u001b[39;00m\n\u001b[0;32m-> 1407\u001b[0m \u001b[39mself\u001b[39m\u001b[39m.\u001b[39m_engine \u001b[39m=\u001b[39m \u001b[39mself\u001b[39m\u001b[39m.\u001b[39m_make_engine(f, \u001b[39mself\u001b[39m\u001b[39m.\u001b[39mengine)\n",
      "File \u001b[0;32m~/anaconda3/envs/IP_venv/lib/python3.11/site-packages/pandas/io/parsers/readers.py:1661\u001b[0m, in \u001b[0;36mTextFileReader._make_engine\u001b[0;34m(self, f, engine)\u001b[0m\n\u001b[1;32m   1659\u001b[0m     \u001b[39mif\u001b[39;00m \u001b[39m\"\u001b[39m\u001b[39mb\u001b[39m\u001b[39m\"\u001b[39m \u001b[39mnot\u001b[39;00m \u001b[39min\u001b[39;00m mode:\n\u001b[1;32m   1660\u001b[0m         mode \u001b[39m+\u001b[39m\u001b[39m=\u001b[39m \u001b[39m\"\u001b[39m\u001b[39mb\u001b[39m\u001b[39m\"\u001b[39m\n\u001b[0;32m-> 1661\u001b[0m \u001b[39mself\u001b[39m\u001b[39m.\u001b[39mhandles \u001b[39m=\u001b[39m get_handle(\n\u001b[1;32m   1662\u001b[0m     f,\n\u001b[1;32m   1663\u001b[0m     mode,\n\u001b[1;32m   1664\u001b[0m     encoding\u001b[39m=\u001b[39m\u001b[39mself\u001b[39m\u001b[39m.\u001b[39moptions\u001b[39m.\u001b[39mget(\u001b[39m\"\u001b[39m\u001b[39mencoding\u001b[39m\u001b[39m\"\u001b[39m, \u001b[39mNone\u001b[39;00m),\n\u001b[1;32m   1665\u001b[0m     compression\u001b[39m=\u001b[39m\u001b[39mself\u001b[39m\u001b[39m.\u001b[39moptions\u001b[39m.\u001b[39mget(\u001b[39m\"\u001b[39m\u001b[39mcompression\u001b[39m\u001b[39m\"\u001b[39m, \u001b[39mNone\u001b[39;00m),\n\u001b[1;32m   1666\u001b[0m     memory_map\u001b[39m=\u001b[39m\u001b[39mself\u001b[39m\u001b[39m.\u001b[39moptions\u001b[39m.\u001b[39mget(\u001b[39m\"\u001b[39m\u001b[39mmemory_map\u001b[39m\u001b[39m\"\u001b[39m, \u001b[39mFalse\u001b[39;00m),\n\u001b[1;32m   1667\u001b[0m     is_text\u001b[39m=\u001b[39mis_text,\n\u001b[1;32m   1668\u001b[0m     errors\u001b[39m=\u001b[39m\u001b[39mself\u001b[39m\u001b[39m.\u001b[39moptions\u001b[39m.\u001b[39mget(\u001b[39m\"\u001b[39m\u001b[39mencoding_errors\u001b[39m\u001b[39m\"\u001b[39m, \u001b[39m\"\u001b[39m\u001b[39mstrict\u001b[39m\u001b[39m\"\u001b[39m),\n\u001b[1;32m   1669\u001b[0m     storage_options\u001b[39m=\u001b[39m\u001b[39mself\u001b[39m\u001b[39m.\u001b[39moptions\u001b[39m.\u001b[39mget(\u001b[39m\"\u001b[39m\u001b[39mstorage_options\u001b[39m\u001b[39m\"\u001b[39m, \u001b[39mNone\u001b[39;00m),\n\u001b[1;32m   1670\u001b[0m )\n\u001b[1;32m   1671\u001b[0m \u001b[39massert\u001b[39;00m \u001b[39mself\u001b[39m\u001b[39m.\u001b[39mhandles \u001b[39mis\u001b[39;00m \u001b[39mnot\u001b[39;00m \u001b[39mNone\u001b[39;00m\n\u001b[1;32m   1672\u001b[0m f \u001b[39m=\u001b[39m \u001b[39mself\u001b[39m\u001b[39m.\u001b[39mhandles\u001b[39m.\u001b[39mhandle\n",
      "File \u001b[0;32m~/anaconda3/envs/IP_venv/lib/python3.11/site-packages/pandas/io/common.py:859\u001b[0m, in \u001b[0;36mget_handle\u001b[0;34m(path_or_buf, mode, encoding, compression, memory_map, is_text, errors, storage_options)\u001b[0m\n\u001b[1;32m    854\u001b[0m \u001b[39melif\u001b[39;00m \u001b[39misinstance\u001b[39m(handle, \u001b[39mstr\u001b[39m):\n\u001b[1;32m    855\u001b[0m     \u001b[39m# Check whether the filename is to be opened in binary mode.\u001b[39;00m\n\u001b[1;32m    856\u001b[0m     \u001b[39m# Binary mode does not support 'encoding' and 'newline'.\u001b[39;00m\n\u001b[1;32m    857\u001b[0m     \u001b[39mif\u001b[39;00m ioargs\u001b[39m.\u001b[39mencoding \u001b[39mand\u001b[39;00m \u001b[39m\"\u001b[39m\u001b[39mb\u001b[39m\u001b[39m\"\u001b[39m \u001b[39mnot\u001b[39;00m \u001b[39min\u001b[39;00m ioargs\u001b[39m.\u001b[39mmode:\n\u001b[1;32m    858\u001b[0m         \u001b[39m# Encoding\u001b[39;00m\n\u001b[0;32m--> 859\u001b[0m         handle \u001b[39m=\u001b[39m \u001b[39mopen\u001b[39m(\n\u001b[1;32m    860\u001b[0m             handle,\n\u001b[1;32m    861\u001b[0m             ioargs\u001b[39m.\u001b[39mmode,\n\u001b[1;32m    862\u001b[0m             encoding\u001b[39m=\u001b[39mioargs\u001b[39m.\u001b[39mencoding,\n\u001b[1;32m    863\u001b[0m             errors\u001b[39m=\u001b[39merrors,\n\u001b[1;32m    864\u001b[0m             newline\u001b[39m=\u001b[39m\u001b[39m\"\u001b[39m\u001b[39m\"\u001b[39m,\n\u001b[1;32m    865\u001b[0m         )\n\u001b[1;32m    866\u001b[0m     \u001b[39melse\u001b[39;00m:\n\u001b[1;32m    867\u001b[0m         \u001b[39m# Binary mode\u001b[39;00m\n\u001b[1;32m    868\u001b[0m         handle \u001b[39m=\u001b[39m \u001b[39mopen\u001b[39m(handle, ioargs\u001b[39m.\u001b[39mmode)\n",
      "\u001b[0;31mFileNotFoundError\u001b[0m: [Errno 2] No such file or directory: 'Dados.csv'"
     ]
    }
   ],
   "source": [
    "import pandas as pd  # biblioteca que permite análise e manipulação de dados\n",
    "from matminer.datasets import (\n",
    "    load_dataset,\n",
    ")  # biblioteca que reúne dados de materiais e oferece diferentes ferramentas para manipulá-los\n",
    "from matminer.featurizers.conversions import (\n",
    "    StrToComposition,\n",
    "    StructureToComposition\n",
    ")  # composição estequiométrica\n",
    "from matminer.featurizers.composition import (\n",
    "    ElementProperty,\n",
    "    ElementFraction,\n",
    "    BandCenter,\n",
    ")  # propriedades dos elementos\n",
    "from matminer.featurizers.structure import DensityFeatures\n",
    "\n",
    "\n",
    "colunas = pd.read_csv(\"Dados.csv\")\n",
    "colunas"
   ]
  },
  {
   "cell_type": "code",
   "execution_count": 2,
   "metadata": {},
   "outputs": [
    {
     "ename": "KeyboardInterrupt",
     "evalue": "",
     "output_type": "error",
     "traceback": [
      "\u001b[0;31m---------------------------------------------------------------------------\u001b[0m",
      "\u001b[0;31mKeyboardInterrupt\u001b[0m                         Traceback (most recent call last)",
      "Cell \u001b[0;32mIn[2], line 1\u001b[0m\n\u001b[0;32m----> 1\u001b[0m datasets \u001b[39m=\u001b[39m [load_dataset(dataset) \u001b[39mfor\u001b[39;00m dataset \u001b[39min\u001b[39;00m colunas[\u001b[39m\"\u001b[39m\u001b[39m0\u001b[39m\u001b[39m\"\u001b[39m]]\n",
      "Cell \u001b[0;32mIn[2], line 1\u001b[0m, in \u001b[0;36m<listcomp>\u001b[0;34m(.0)\u001b[0m\n\u001b[0;32m----> 1\u001b[0m datasets \u001b[39m=\u001b[39m [load_dataset(dataset) \u001b[39mfor\u001b[39;00m dataset \u001b[39min\u001b[39;00m colunas[\u001b[39m\"\u001b[39m\u001b[39m0\u001b[39m\u001b[39m\"\u001b[39m]]\n",
      "File \u001b[0;32m~/anaconda3/envs/IP_venv/lib/python3.11/site-packages/matminer/datasets/dataset_retrieval.py:73\u001b[0m, in \u001b[0;36mload_dataset\u001b[0;34m(name, data_home, download_if_missing, pbar)\u001b[0m\n\u001b[1;32m     65\u001b[0m data_path \u001b[39m=\u001b[39m os\u001b[39m.\u001b[39mpath\u001b[39m.\u001b[39mjoin(_get_data_home(data_home), name \u001b[39m+\u001b[39m \u001b[39m\"\u001b[39m\u001b[39m.\u001b[39m\u001b[39m\"\u001b[39m \u001b[39m+\u001b[39m dataset_metadata[\u001b[39m\"\u001b[39m\u001b[39mfile_type\u001b[39m\u001b[39m\"\u001b[39m])\n\u001b[1;32m     66\u001b[0m _validate_dataset(\n\u001b[1;32m     67\u001b[0m     data_path,\n\u001b[1;32m     68\u001b[0m     dataset_metadata[\u001b[39m\"\u001b[39m\u001b[39murl\u001b[39m\u001b[39m\"\u001b[39m],\n\u001b[1;32m     69\u001b[0m     dataset_metadata[\u001b[39m\"\u001b[39m\u001b[39mhash\u001b[39m\u001b[39m\"\u001b[39m],\n\u001b[1;32m     70\u001b[0m     download_if_missing,\n\u001b[1;32m     71\u001b[0m )\n\u001b[0;32m---> 73\u001b[0m df \u001b[39m=\u001b[39m load_dataframe_from_json(data_path, pbar\u001b[39m=\u001b[39mpbar)\n\u001b[1;32m     75\u001b[0m \u001b[39mreturn\u001b[39;00m df\n",
      "File \u001b[0;32m~/anaconda3/envs/IP_venv/lib/python3.11/site-packages/matminer/utils/io.py:167\u001b[0m, in \u001b[0;36mload_dataframe_from_json\u001b[0;34m(filename, pbar, decode)\u001b[0m\n\u001b[1;32m    164\u001b[0m hook \u001b[39m=\u001b[39m pbar_hook \u001b[39mif\u001b[39;00m pbar \u001b[39melse\u001b[39;00m \u001b[39mlambda\u001b[39;00m x: x\n\u001b[1;32m    166\u001b[0m \u001b[39mwith\u001b[39;00m zopen(filename, \u001b[39m\"\u001b[39m\u001b[39mrb\u001b[39m\u001b[39m\"\u001b[39m) \u001b[39mas\u001b[39;00m f:\n\u001b[0;32m--> 167\u001b[0m     dataframe_data \u001b[39m=\u001b[39m json\u001b[39m.\u001b[39mload(f, \u001b[39mcls\u001b[39m\u001b[39m=\u001b[39mdecoder, object_hook\u001b[39m=\u001b[39mhook)\n\u001b[1;32m    169\u001b[0m pbar1\u001b[39m.\u001b[39mclose()\n\u001b[1;32m    170\u001b[0m pbar2\u001b[39m.\u001b[39mclose()\n",
      "File \u001b[0;32m~/anaconda3/envs/IP_venv/lib/python3.11/json/__init__.py:293\u001b[0m, in \u001b[0;36mload\u001b[0;34m(fp, cls, object_hook, parse_float, parse_int, parse_constant, object_pairs_hook, **kw)\u001b[0m\n\u001b[1;32m    274\u001b[0m \u001b[39mdef\u001b[39;00m \u001b[39mload\u001b[39m(fp, \u001b[39m*\u001b[39m, \u001b[39mcls\u001b[39m\u001b[39m=\u001b[39m\u001b[39mNone\u001b[39;00m, object_hook\u001b[39m=\u001b[39m\u001b[39mNone\u001b[39;00m, parse_float\u001b[39m=\u001b[39m\u001b[39mNone\u001b[39;00m,\n\u001b[1;32m    275\u001b[0m         parse_int\u001b[39m=\u001b[39m\u001b[39mNone\u001b[39;00m, parse_constant\u001b[39m=\u001b[39m\u001b[39mNone\u001b[39;00m, object_pairs_hook\u001b[39m=\u001b[39m\u001b[39mNone\u001b[39;00m, \u001b[39m*\u001b[39m\u001b[39m*\u001b[39mkw):\n\u001b[1;32m    276\u001b[0m \u001b[39m    \u001b[39m\u001b[39m\"\"\"Deserialize ``fp`` (a ``.read()``-supporting file-like object containing\u001b[39;00m\n\u001b[1;32m    277\u001b[0m \u001b[39m    a JSON document) to a Python object.\u001b[39;00m\n\u001b[1;32m    278\u001b[0m \n\u001b[0;32m   (...)\u001b[0m\n\u001b[1;32m    291\u001b[0m \u001b[39m    kwarg; otherwise ``JSONDecoder`` is used.\u001b[39;00m\n\u001b[1;32m    292\u001b[0m \u001b[39m    \"\"\"\u001b[39;00m\n\u001b[0;32m--> 293\u001b[0m     \u001b[39mreturn\u001b[39;00m loads(fp\u001b[39m.\u001b[39mread(),\n\u001b[1;32m    294\u001b[0m         \u001b[39mcls\u001b[39m\u001b[39m=\u001b[39m\u001b[39mcls\u001b[39m, object_hook\u001b[39m=\u001b[39mobject_hook,\n\u001b[1;32m    295\u001b[0m         parse_float\u001b[39m=\u001b[39mparse_float, parse_int\u001b[39m=\u001b[39mparse_int,\n\u001b[1;32m    296\u001b[0m         parse_constant\u001b[39m=\u001b[39mparse_constant, object_pairs_hook\u001b[39m=\u001b[39mobject_pairs_hook, \u001b[39m*\u001b[39m\u001b[39m*\u001b[39mkw)\n",
      "File \u001b[0;32m~/anaconda3/envs/IP_venv/lib/python3.11/json/__init__.py:359\u001b[0m, in \u001b[0;36mloads\u001b[0;34m(s, cls, object_hook, parse_float, parse_int, parse_constant, object_pairs_hook, **kw)\u001b[0m\n\u001b[1;32m    357\u001b[0m \u001b[39mif\u001b[39;00m parse_constant \u001b[39mis\u001b[39;00m \u001b[39mnot\u001b[39;00m \u001b[39mNone\u001b[39;00m:\n\u001b[1;32m    358\u001b[0m     kw[\u001b[39m'\u001b[39m\u001b[39mparse_constant\u001b[39m\u001b[39m'\u001b[39m] \u001b[39m=\u001b[39m parse_constant\n\u001b[0;32m--> 359\u001b[0m \u001b[39mreturn\u001b[39;00m \u001b[39mcls\u001b[39m(\u001b[39m*\u001b[39m\u001b[39m*\u001b[39mkw)\u001b[39m.\u001b[39mdecode(s)\n",
      "File \u001b[0;32m~/anaconda3/envs/IP_venv/lib/python3.11/site-packages/monty/json.py:496\u001b[0m, in \u001b[0;36mMontyDecoder.decode\u001b[0;34m(self, s)\u001b[0m\n\u001b[1;32m    494\u001b[0m         d \u001b[39m=\u001b[39m json\u001b[39m.\u001b[39mloads(s)\n\u001b[1;32m    495\u001b[0m \u001b[39melse\u001b[39;00m:\n\u001b[0;32m--> 496\u001b[0m     d \u001b[39m=\u001b[39m json\u001b[39m.\u001b[39mloads(s)\n\u001b[1;32m    497\u001b[0m \u001b[39mreturn\u001b[39;00m \u001b[39mself\u001b[39m\u001b[39m.\u001b[39mprocess_decoded(d)\n",
      "File \u001b[0;32m~/anaconda3/envs/IP_venv/lib/python3.11/json/__init__.py:346\u001b[0m, in \u001b[0;36mloads\u001b[0;34m(s, cls, object_hook, parse_float, parse_int, parse_constant, object_pairs_hook, **kw)\u001b[0m\n\u001b[1;32m    341\u001b[0m     s \u001b[39m=\u001b[39m s\u001b[39m.\u001b[39mdecode(detect_encoding(s), \u001b[39m'\u001b[39m\u001b[39msurrogatepass\u001b[39m\u001b[39m'\u001b[39m)\n\u001b[1;32m    343\u001b[0m \u001b[39mif\u001b[39;00m (\u001b[39mcls\u001b[39m \u001b[39mis\u001b[39;00m \u001b[39mNone\u001b[39;00m \u001b[39mand\u001b[39;00m object_hook \u001b[39mis\u001b[39;00m \u001b[39mNone\u001b[39;00m \u001b[39mand\u001b[39;00m\n\u001b[1;32m    344\u001b[0m         parse_int \u001b[39mis\u001b[39;00m \u001b[39mNone\u001b[39;00m \u001b[39mand\u001b[39;00m parse_float \u001b[39mis\u001b[39;00m \u001b[39mNone\u001b[39;00m \u001b[39mand\u001b[39;00m\n\u001b[1;32m    345\u001b[0m         parse_constant \u001b[39mis\u001b[39;00m \u001b[39mNone\u001b[39;00m \u001b[39mand\u001b[39;00m object_pairs_hook \u001b[39mis\u001b[39;00m \u001b[39mNone\u001b[39;00m \u001b[39mand\u001b[39;00m \u001b[39mnot\u001b[39;00m kw):\n\u001b[0;32m--> 346\u001b[0m     \u001b[39mreturn\u001b[39;00m _default_decoder\u001b[39m.\u001b[39mdecode(s)\n\u001b[1;32m    347\u001b[0m \u001b[39mif\u001b[39;00m \u001b[39mcls\u001b[39m \u001b[39mis\u001b[39;00m \u001b[39mNone\u001b[39;00m:\n\u001b[1;32m    348\u001b[0m     \u001b[39mcls\u001b[39m \u001b[39m=\u001b[39m JSONDecoder\n",
      "File \u001b[0;32m~/anaconda3/envs/IP_venv/lib/python3.11/json/decoder.py:337\u001b[0m, in \u001b[0;36mJSONDecoder.decode\u001b[0;34m(self, s, _w)\u001b[0m\n\u001b[1;32m    332\u001b[0m \u001b[39mdef\u001b[39;00m \u001b[39mdecode\u001b[39m(\u001b[39mself\u001b[39m, s, _w\u001b[39m=\u001b[39mWHITESPACE\u001b[39m.\u001b[39mmatch):\n\u001b[1;32m    333\u001b[0m \u001b[39m    \u001b[39m\u001b[39m\"\"\"Return the Python representation of ``s`` (a ``str`` instance\u001b[39;00m\n\u001b[1;32m    334\u001b[0m \u001b[39m    containing a JSON document).\u001b[39;00m\n\u001b[1;32m    335\u001b[0m \n\u001b[1;32m    336\u001b[0m \u001b[39m    \"\"\"\u001b[39;00m\n\u001b[0;32m--> 337\u001b[0m     obj, end \u001b[39m=\u001b[39m \u001b[39mself\u001b[39m\u001b[39m.\u001b[39mraw_decode(s, idx\u001b[39m=\u001b[39m_w(s, \u001b[39m0\u001b[39m)\u001b[39m.\u001b[39mend())\n\u001b[1;32m    338\u001b[0m     end \u001b[39m=\u001b[39m _w(s, end)\u001b[39m.\u001b[39mend()\n\u001b[1;32m    339\u001b[0m     \u001b[39mif\u001b[39;00m end \u001b[39m!=\u001b[39m \u001b[39mlen\u001b[39m(s):\n",
      "File \u001b[0;32m~/anaconda3/envs/IP_venv/lib/python3.11/json/decoder.py:353\u001b[0m, in \u001b[0;36mJSONDecoder.raw_decode\u001b[0;34m(self, s, idx)\u001b[0m\n\u001b[1;32m    344\u001b[0m \u001b[39m\u001b[39m\u001b[39m\"\"\"Decode a JSON document from ``s`` (a ``str`` beginning with\u001b[39;00m\n\u001b[1;32m    345\u001b[0m \u001b[39ma JSON document) and return a 2-tuple of the Python\u001b[39;00m\n\u001b[1;32m    346\u001b[0m \u001b[39mrepresentation and the index in ``s`` where the document ended.\u001b[39;00m\n\u001b[0;32m   (...)\u001b[0m\n\u001b[1;32m    350\u001b[0m \n\u001b[1;32m    351\u001b[0m \u001b[39m\"\"\"\u001b[39;00m\n\u001b[1;32m    352\u001b[0m \u001b[39mtry\u001b[39;00m:\n\u001b[0;32m--> 353\u001b[0m     obj, end \u001b[39m=\u001b[39m \u001b[39mself\u001b[39m\u001b[39m.\u001b[39mscan_once(s, idx)\n\u001b[1;32m    354\u001b[0m \u001b[39mexcept\u001b[39;00m \u001b[39mStopIteration\u001b[39;00m \u001b[39mas\u001b[39;00m err:\n\u001b[1;32m    355\u001b[0m     \u001b[39mraise\u001b[39;00m JSONDecodeError(\u001b[39m\"\u001b[39m\u001b[39mExpecting value\u001b[39m\u001b[39m\"\u001b[39m, s, err\u001b[39m.\u001b[39mvalue) \u001b[39mfrom\u001b[39;00m \u001b[39mNone\u001b[39;00m\n",
      "\u001b[0;31mKeyboardInterrupt\u001b[0m: "
     ]
    }
   ],
   "source": [
    "datasets = [load_dataset(dataset) for dataset in colunas[\"0\"]]\n"
   ]
  },
  {
   "cell_type": "code",
   "execution_count": null,
   "metadata": {},
   "outputs": [],
   "source": [
    "coluna_dadaset1 = list(colunas[[\"1\", \"2\"]].iloc[0]) + [\"formula\", \"structure\"]\n",
    "coluna_dadaset2 = [colunas[\"1\"].iloc[1], \"formula\"]\n"
   ]
  },
  {
   "cell_type": "code",
   "execution_count": null,
   "metadata": {},
   "outputs": [],
   "source": [
    "datasets[0] = datasets[0][coluna_dadaset1]\n",
    "datasets[1] = datasets[1][coluna_dadaset2]\n"
   ]
  },
  {
   "cell_type": "code",
   "execution_count": null,
   "metadata": {},
   "outputs": [
    {
     "data": {
      "text/plain": [
       "36"
      ]
     },
     "execution_count": 27,
     "metadata": {},
     "output_type": "execute_result"
    }
   ],
   "source": [
    "dados_juntos = pd.merge(datasets[0], datasets[1], on=\"formula\")\n",
    "len(set(dados_juntos[\"formula\"]))\n"
   ]
  },
  {
   "cell_type": "code",
   "execution_count": null,
   "metadata": {},
   "outputs": [
    {
     "name": "stderr",
     "output_type": "stream",
     "text": [
      "ElementProperty: 100%|██████████| 8924/8924 [00:49<00:00, 179.54it/s]\n"
     ]
    }
   ],
   "source": [
    "# ferramentas oferecidas pelo próprio matminer\n",
    "\n",
    "# Carregando o dataset\n",
    "df = datasets[0]\n",
    "\n",
    "stc = StrToComposition()\n",
    "df = stc.featurize_dataframe(df, \"formula\", pbar=False)\n",
    "\n",
    "# Calculando as propriedades dos elementos\n",
    "ep_feat = ElementProperty(\n",
    "    \"pymatgen\", [\"melting_point\", \"thermal_conductivity\"], [\"mean\"]\n",
    ")\n",
    "ep_feat.set_n_jobs(7)\n",
    "df = ep_feat.featurize_dataframe(df, col_id=\"composition\")\n",
    "\n",
    "# Selecionando as colunas que contém informações sobre condutividade térmica\n"
   ]
  },
  {
   "cell_type": "code",
   "execution_count": null,
   "metadata": {},
   "outputs": [],
   "source": [
    "df = df.dropna(\n",
    "    axis=1\n",
    ")  # retirando as linhas que possuirem algum dado faltante (NaN, Not a Number)\n"
   ]
  },
  {
   "cell_type": "code",
   "execution_count": null,
   "metadata": {},
   "outputs": [
    {
     "data": {
      "text/plain": [
       "['density', 'vpa', 'packing fraction']"
      ]
     },
     "execution_count": 30,
     "metadata": {},
     "output_type": "execute_result"
    }
   ],
   "source": [
    "densityf = DensityFeatures()\n",
    "\n",
    "densityf.feature_labels()  # utilizado para mostrar os dados disponiveis com esse metodo.\n"
   ]
  },
  {
   "cell_type": "markdown",
   "metadata": {},
   "source": [
    "> vpa = volume per atom = estrutura dos materiais; calculado pela divisão da célula unitária pelo número de átomos nela"
   ]
  },
  {
   "cell_type": "markdown",
   "metadata": {},
   "source": [
    "> packing fraction: measura of how efficiently space is filled by objects comprising a packing"
   ]
  },
  {
   "cell_type": "code",
   "execution_count": null,
   "metadata": {},
   "outputs": [
    {
     "name": "stderr",
     "output_type": "stream",
     "text": [
      "DensityFeatures: 100%|██████████| 8924/8924 [00:53<00:00, 165.70it/s]\n",
      "\n"
     ]
    }
   ],
   "source": [
    "df = densityf.featurize_dataframe(df, \"structure\", True, True)\n"
   ]
  },
  {
   "cell_type": "code",
   "execution_count": null,
   "metadata": {},
   "outputs": [],
   "source": [
    "df = df.rename(columns={\"PymatgenData mean melting_point\": \"melting_point\"})\n",
    "df = df.rename(\n",
    "    columns={\"PymatgenData mean thermal_conductivity\": \"thermal_conductivity\"}\n",
    ")\n"
   ]
  },
  {
   "cell_type": "markdown",
   "metadata": {},
   "source": [
    "> Materiais (linhas) e as propriedades que conseguimos obter (colunas)"
   ]
  },
  {
   "cell_type": "code",
   "execution_count": null,
   "metadata": {},
   "outputs": [
    {
     "data": {
      "text/html": [
       "<div>\n",
       "<style scoped>\n",
       "    .dataframe tbody tr th:only-of-type {\n",
       "        vertical-align: middle;\n",
       "    }\n",
       "\n",
       "    .dataframe tbody tr th {\n",
       "        vertical-align: top;\n",
       "    }\n",
       "\n",
       "    .dataframe thead th {\n",
       "        text-align: right;\n",
       "    }\n",
       "</style>\n",
       "<table border=\"1\" class=\"dataframe\">\n",
       "  <thead>\n",
       "    <tr style=\"text-align: right;\">\n",
       "      <th></th>\n",
       "      <th>pf_n</th>\n",
       "      <th>pf_p</th>\n",
       "      <th>melting_point</th>\n",
       "      <th>thermal_conductivity</th>\n",
       "      <th>density</th>\n",
       "      <th>vpa</th>\n",
       "      <th>packing fraction</th>\n",
       "    </tr>\n",
       "  </thead>\n",
       "  <tbody>\n",
       "    <tr>\n",
       "      <th>count</th>\n",
       "      <td>8.924000e+03</td>\n",
       "      <td>8924.000000</td>\n",
       "      <td>8924.000000</td>\n",
       "      <td>8924.000000</td>\n",
       "      <td>8889.000000</td>\n",
       "      <td>8889.000000</td>\n",
       "      <td>8889.000000</td>\n",
       "    </tr>\n",
       "    <tr>\n",
       "      <th>mean</th>\n",
       "      <td>6.662679e-01</td>\n",
       "      <td>0.299013</td>\n",
       "      <td>525.742521</td>\n",
       "      <td>31.202593</td>\n",
       "      <td>4.055432</td>\n",
       "      <td>17.817603</td>\n",
       "      <td>0.446406</td>\n",
       "    </tr>\n",
       "    <tr>\n",
       "      <th>std</th>\n",
       "      <td>4.668595e-01</td>\n",
       "      <td>0.434866</td>\n",
       "      <td>324.135984</td>\n",
       "      <td>31.960225</td>\n",
       "      <td>1.778242</td>\n",
       "      <td>8.324262</td>\n",
       "      <td>0.223698</td>\n",
       "    </tr>\n",
       "    <tr>\n",
       "      <th>min</th>\n",
       "      <td>8.930000e-07</td>\n",
       "      <td>0.000015</td>\n",
       "      <td>14.010000</td>\n",
       "      <td>0.008900</td>\n",
       "      <td>0.038513</td>\n",
       "      <td>5.571606</td>\n",
       "      <td>0.001506</td>\n",
       "    </tr>\n",
       "    <tr>\n",
       "      <th>25%</th>\n",
       "      <td>2.670000e-01</td>\n",
       "      <td>0.064100</td>\n",
       "      <td>312.013750</td>\n",
       "      <td>9.514377</td>\n",
       "      <td>2.764440</td>\n",
       "      <td>12.319221</td>\n",
       "      <td>0.285791</td>\n",
       "    </tr>\n",
       "    <tr>\n",
       "      <th>50%</th>\n",
       "      <td>7.100000e-01</td>\n",
       "      <td>0.166000</td>\n",
       "      <td>480.092222</td>\n",
       "      <td>22.443271</td>\n",
       "      <td>3.644737</td>\n",
       "      <td>14.781777</td>\n",
       "      <td>0.429114</td>\n",
       "    </tr>\n",
       "    <tr>\n",
       "      <th>75%</th>\n",
       "      <td>9.360000e-01</td>\n",
       "      <td>0.373000</td>\n",
       "      <td>664.696364</td>\n",
       "      <td>42.322361</td>\n",
       "      <td>5.069934</td>\n",
       "      <td>20.782544</td>\n",
       "      <td>0.575488</td>\n",
       "    </tr>\n",
       "    <tr>\n",
       "      <th>max</th>\n",
       "      <td>6.710000e+00</td>\n",
       "      <td>7.290000</td>\n",
       "      <td>3800.000000</td>\n",
       "      <td>300.006458</td>\n",
       "      <td>13.869557</td>\n",
       "      <td>73.999192</td>\n",
       "      <td>1.436588</td>\n",
       "    </tr>\n",
       "  </tbody>\n",
       "</table>\n",
       "</div>"
      ],
      "text/plain": [
       "               pf_n         pf_p  melting_point  thermal_conductivity   \n",
       "count  8.924000e+03  8924.000000    8924.000000           8924.000000  \\\n",
       "mean   6.662679e-01     0.299013     525.742521             31.202593   \n",
       "std    4.668595e-01     0.434866     324.135984             31.960225   \n",
       "min    8.930000e-07     0.000015      14.010000              0.008900   \n",
       "25%    2.670000e-01     0.064100     312.013750              9.514377   \n",
       "50%    7.100000e-01     0.166000     480.092222             22.443271   \n",
       "75%    9.360000e-01     0.373000     664.696364             42.322361   \n",
       "max    6.710000e+00     7.290000    3800.000000            300.006458   \n",
       "\n",
       "           density          vpa  packing fraction  \n",
       "count  8889.000000  8889.000000       8889.000000  \n",
       "mean      4.055432    17.817603          0.446406  \n",
       "std       1.778242     8.324262          0.223698  \n",
       "min       0.038513     5.571606          0.001506  \n",
       "25%       2.764440    12.319221          0.285791  \n",
       "50%       3.644737    14.781777          0.429114  \n",
       "75%       5.069934    20.782544          0.575488  \n",
       "max      13.869557    73.999192          1.436588  "
      ]
     },
     "execution_count": 33,
     "metadata": {},
     "output_type": "execute_result"
    }
   ],
   "source": [
    "df.describe()\n"
   ]
  },
  {
   "cell_type": "code",
   "execution_count": null,
   "metadata": {},
   "outputs": [
    {
     "name": "stdout",
     "output_type": "stream",
     "text": [
      "Com esses dados temos 7380 moleculas distintas.\n"
     ]
    }
   ],
   "source": [
    "quantidade = len(set(df[\"formula\"]))\n",
    "\n",
    "print(f\"Com esses dados temos {quantidade} moleculas distintas.\")\n"
   ]
  },
  {
   "cell_type": "code",
   "execution_count": null,
   "metadata": {},
   "outputs": [
    {
     "name": "stderr",
     "output_type": "stream",
     "text": [
      "StrToComposition: 100%|██████████| 2451/2451 [00:02<00:00, 818.95it/s] \n",
      "ElementProperty: 100%|██████████| 2451/2451 [00:12<00:00, 194.18it/s]]\n",
      "ElementFraction: 100%|██████████| 2451/2451 [00:12<00:00, 194.63it/s]\n",
      "\n",
      "BandCenter:  57%|█████▋    | 1409/2451 [00:12<00:08, 116.88it/s]\n"
     ]
    },
    {
     "ename": "KeyboardInterrupt",
     "evalue": "",
     "output_type": "error",
     "traceback": [
      "\u001b[0;31m---------------------------------------------------------------------------\u001b[0m",
      "\u001b[0;31mKeyboardInterrupt\u001b[0m                         Traceback (most recent call last)",
      "Cell \u001b[0;32mIn[35], line 21\u001b[0m\n\u001b[1;32m     18\u001b[0m df \u001b[39m=\u001b[39m frac\u001b[39m.\u001b[39mfeaturize_dataframe(df, \u001b[39m\"\u001b[39m\u001b[39mcomposition\u001b[39m\u001b[39m\"\u001b[39m)\n\u001b[1;32m     20\u001b[0m BC \u001b[39m=\u001b[39m BandCenter()\n\u001b[0;32m---> 21\u001b[0m df \u001b[39m=\u001b[39m BC\u001b[39m.\u001b[39mfeaturize_dataframe(df, \u001b[39m\"\u001b[39m\u001b[39mcomposition\u001b[39m\u001b[39m\"\u001b[39m, \u001b[39mTrue\u001b[39;00m)\n\u001b[1;32m     23\u001b[0m df\u001b[39m.\u001b[39mreset_index(inplace\u001b[39m=\u001b[39m\u001b[39mTrue\u001b[39;00m, drop\u001b[39m=\u001b[39m\u001b[39mTrue\u001b[39;00m)\n\u001b[1;32m     25\u001b[0m df \u001b[39m=\u001b[39m df\u001b[39m.\u001b[39mdropna(axis\u001b[39m=\u001b[39m\u001b[39m0\u001b[39m)\n",
      "File \u001b[0;32m~/anaconda3/envs/IP_venv/lib/python3.11/site-packages/matminer/featurizers/base.py:338\u001b[0m, in \u001b[0;36mBaseFeaturizer.featurize_dataframe\u001b[0;34m(self, df, col_id, ignore_errors, return_errors, inplace, multiindex, pbar)\u001b[0m\n\u001b[1;32m    335\u001b[0m             \u001b[39mraise\u001b[39;00m \u001b[39mValueError\u001b[39;00m(\u001b[39mf\u001b[39m\u001b[39m'\u001b[39m\u001b[39m\"\u001b[39m\u001b[39m{\u001b[39;00mcol\u001b[39m}\u001b[39;00m\u001b[39m\"\u001b[39m\u001b[39m exists in input dataframe\u001b[39m\u001b[39m'\u001b[39m)\n\u001b[1;32m    337\u001b[0m \u001b[39m# Compute the features\u001b[39;00m\n\u001b[0;32m--> 338\u001b[0m features \u001b[39m=\u001b[39m \u001b[39mself\u001b[39m\u001b[39m.\u001b[39mfeaturize_many(\n\u001b[1;32m    339\u001b[0m     df[col_id]\u001b[39m.\u001b[39mvalues,\n\u001b[1;32m    340\u001b[0m     ignore_errors\u001b[39m=\u001b[39mignore_errors,\n\u001b[1;32m    341\u001b[0m     return_errors\u001b[39m=\u001b[39mreturn_errors,\n\u001b[1;32m    342\u001b[0m     pbar\u001b[39m=\u001b[39mpbar,\n\u001b[1;32m    343\u001b[0m )\n\u001b[1;32m    345\u001b[0m \u001b[39m# Make sure the dataframe can handle multiindices\u001b[39;00m\n\u001b[1;32m    346\u001b[0m \u001b[39mif\u001b[39;00m multiindex:\n",
      "File \u001b[0;32m~/anaconda3/envs/IP_venv/lib/python3.11/site-packages/matminer/featurizers/base.py:470\u001b[0m, in \u001b[0;36mBaseFeaturizer.featurize_many\u001b[0;34m(self, entries, ignore_errors, return_errors, pbar)\u001b[0m\n\u001b[1;32m    464\u001b[0m \u001b[39mwith\u001b[39;00m Pool(\u001b[39mself\u001b[39m\u001b[39m.\u001b[39mn_jobs, maxtasksperchild\u001b[39m=\u001b[39m\u001b[39m1\u001b[39m) \u001b[39mas\u001b[39;00m p:\n\u001b[1;32m    465\u001b[0m     func \u001b[39m=\u001b[39m partial(\n\u001b[1;32m    466\u001b[0m         \u001b[39mself\u001b[39m\u001b[39m.\u001b[39mfeaturize_wrapper,\n\u001b[1;32m    467\u001b[0m         return_errors\u001b[39m=\u001b[39mreturn_errors,\n\u001b[1;32m    468\u001b[0m         ignore_errors\u001b[39m=\u001b[39mignore_errors,\n\u001b[1;32m    469\u001b[0m     )\n\u001b[0;32m--> 470\u001b[0m     res \u001b[39m=\u001b[39m p\u001b[39m.\u001b[39mmap(func, entries, chunksize\u001b[39m=\u001b[39m\u001b[39mself\u001b[39m\u001b[39m.\u001b[39mchunksize)\n\u001b[1;32m    471\u001b[0m     \u001b[39mreturn\u001b[39;00m res\n",
      "File \u001b[0;32m~/anaconda3/envs/IP_venv/lib/python3.11/multiprocessing/pool.py:367\u001b[0m, in \u001b[0;36mPool.map\u001b[0;34m(self, func, iterable, chunksize)\u001b[0m\n\u001b[1;32m    362\u001b[0m \u001b[39mdef\u001b[39;00m \u001b[39mmap\u001b[39m(\u001b[39mself\u001b[39m, func, iterable, chunksize\u001b[39m=\u001b[39m\u001b[39mNone\u001b[39;00m):\n\u001b[1;32m    363\u001b[0m \u001b[39m    \u001b[39m\u001b[39m'''\u001b[39;00m\n\u001b[1;32m    364\u001b[0m \u001b[39m    Apply `func` to each element in `iterable`, collecting the results\u001b[39;00m\n\u001b[1;32m    365\u001b[0m \u001b[39m    in a list that is returned.\u001b[39;00m\n\u001b[1;32m    366\u001b[0m \u001b[39m    '''\u001b[39;00m\n\u001b[0;32m--> 367\u001b[0m     \u001b[39mreturn\u001b[39;00m \u001b[39mself\u001b[39m\u001b[39m.\u001b[39m_map_async(func, iterable, mapstar, chunksize)\u001b[39m.\u001b[39mget()\n",
      "File \u001b[0;32m~/anaconda3/envs/IP_venv/lib/python3.11/multiprocessing/pool.py:768\u001b[0m, in \u001b[0;36mApplyResult.get\u001b[0;34m(self, timeout)\u001b[0m\n\u001b[1;32m    767\u001b[0m \u001b[39mdef\u001b[39;00m \u001b[39mget\u001b[39m(\u001b[39mself\u001b[39m, timeout\u001b[39m=\u001b[39m\u001b[39mNone\u001b[39;00m):\n\u001b[0;32m--> 768\u001b[0m     \u001b[39mself\u001b[39m\u001b[39m.\u001b[39mwait(timeout)\n\u001b[1;32m    769\u001b[0m     \u001b[39mif\u001b[39;00m \u001b[39mnot\u001b[39;00m \u001b[39mself\u001b[39m\u001b[39m.\u001b[39mready():\n\u001b[1;32m    770\u001b[0m         \u001b[39mraise\u001b[39;00m \u001b[39mTimeoutError\u001b[39;00m\n",
      "File \u001b[0;32m~/anaconda3/envs/IP_venv/lib/python3.11/multiprocessing/pool.py:765\u001b[0m, in \u001b[0;36mApplyResult.wait\u001b[0;34m(self, timeout)\u001b[0m\n\u001b[1;32m    764\u001b[0m \u001b[39mdef\u001b[39;00m \u001b[39mwait\u001b[39m(\u001b[39mself\u001b[39m, timeout\u001b[39m=\u001b[39m\u001b[39mNone\u001b[39;00m):\n\u001b[0;32m--> 765\u001b[0m     \u001b[39mself\u001b[39m\u001b[39m.\u001b[39m_event\u001b[39m.\u001b[39mwait(timeout)\n",
      "File \u001b[0;32m~/anaconda3/envs/IP_venv/lib/python3.11/threading.py:622\u001b[0m, in \u001b[0;36mEvent.wait\u001b[0;34m(self, timeout)\u001b[0m\n\u001b[1;32m    620\u001b[0m signaled \u001b[39m=\u001b[39m \u001b[39mself\u001b[39m\u001b[39m.\u001b[39m_flag\n\u001b[1;32m    621\u001b[0m \u001b[39mif\u001b[39;00m \u001b[39mnot\u001b[39;00m signaled:\n\u001b[0;32m--> 622\u001b[0m     signaled \u001b[39m=\u001b[39m \u001b[39mself\u001b[39m\u001b[39m.\u001b[39m_cond\u001b[39m.\u001b[39mwait(timeout)\n\u001b[1;32m    623\u001b[0m \u001b[39mreturn\u001b[39;00m signaled\n",
      "File \u001b[0;32m~/anaconda3/envs/IP_venv/lib/python3.11/threading.py:320\u001b[0m, in \u001b[0;36mCondition.wait\u001b[0;34m(self, timeout)\u001b[0m\n\u001b[1;32m    318\u001b[0m \u001b[39mtry\u001b[39;00m:    \u001b[39m# restore state no matter what (e.g., KeyboardInterrupt)\u001b[39;00m\n\u001b[1;32m    319\u001b[0m     \u001b[39mif\u001b[39;00m timeout \u001b[39mis\u001b[39;00m \u001b[39mNone\u001b[39;00m:\n\u001b[0;32m--> 320\u001b[0m         waiter\u001b[39m.\u001b[39macquire()\n\u001b[1;32m    321\u001b[0m         gotit \u001b[39m=\u001b[39m \u001b[39mTrue\u001b[39;00m\n\u001b[1;32m    322\u001b[0m     \u001b[39melse\u001b[39;00m:\n",
      "\u001b[0;31mKeyboardInterrupt\u001b[0m: "
     ]
    }
   ],
   "source": [
    "df = load_dataset(\"matbench_expt_is_metal\")\n",
    "df = df[df[\"is_metal\"] == True]\n",
    "# ferramentas oferecidas pelo próprio matminer\n",
    "df = df.rename(columns={\"composition\": \"formula\"})\n",
    "# Carregando o dataset\n",
    "\n",
    "stc = StrToComposition()\n",
    "df = stc.featurize_dataframe(df, \"formula\")\n",
    "\n",
    "# Calculando as propriedades dos elementos\n",
    "ep_feat = ElementProperty(\n",
    "    \"pymatgen\", [\"melting_point\", \"thermal_conductivity\"], [\"mean\"]\n",
    ")\n",
    "df = ep_feat.featurize_dataframe(df, col_id=\"composition\")\n",
    "\n",
    "\n",
    "frac = ElementFraction()\n",
    "df = frac.featurize_dataframe(df, \"composition\")\n",
    "\n",
    "BC = BandCenter()\n",
    "df = BC.featurize_dataframe(df, \"composition\", True)\n",
    "\n",
    "df.reset_index(inplace=True, drop=True)\n",
    "\n",
    "df = df.dropna(axis=0)\n",
    "\n",
    "df"
   ]
  },
  {
   "cell_type": "code",
   "execution_count": null,
   "metadata": {},
   "outputs": [],
   "source": [
    "df.to_csv(\"Dados_teste.csv\")"
   ]
  },
  {
   "cell_type": "code",
   "execution_count": 5,
   "metadata": {},
   "outputs": [],
   "source": []
  },
  {
   "cell_type": "code",
   "execution_count": 3,
   "metadata": {},
   "outputs": [
    {
     "name": "stderr",
     "output_type": "stream",
     "text": [
      "StructureToComposition: 100%|██████████| 46151/46151 [01:44<00:00, 443.48it/s]\n",
      "\n",
      "ElementProperty: 100%|██████████| 46151/46151 [04:52<00:00, 157.51it/s]\n",
      "ElementFraction: 100%|██████████| 46151/46151 [03:53<00:00, 197.35it/s]\n",
      "\n",
      "BandCenter: 100%|██████████| 46151/46151 [12:38<00:00, 60.82it/s]\n",
      "DensityFeatures:  86%|████████▌ | 37459/43715 [03:20<00:34, 183.80it/s]"
     ]
    }
   ],
   "source": [
    "df = load_dataset(\"matbench_mp_is_metal\")\n",
    "df = df[df[\"is_metal\"] == True]\n",
    "# ferramentas oferecidas pelo próprio matminer\n",
    "\n",
    "stc = StructureToComposition()\n",
    "df = stc.featurize_dataframe(df, \"structure\")\n",
    "\n",
    "df = df.dropna(axis=0)\n",
    "# Calculando as propriedades dos elementos\n",
    "ep_feat = ElementProperty(\n",
    "    \"pymatgen\", [\"melting_point\", \"thermal_conductivity\"], [\"mean\"]\n",
    ")\n",
    "df = ep_feat.featurize_dataframe(df, col_id=\"composition\")\n",
    "\n",
    "df = df.dropna(axis=0)\n",
    "\n",
    "\n",
    "frac = ElementFraction()\n",
    "df = frac.featurize_dataframe(df, \"composition\")\n",
    "\n",
    "df = df.dropna(axis=0)\n",
    "\n",
    "BC = BandCenter()\n",
    "df = BC.featurize_dataframe(df, \"composition\", True)\n",
    "df = df.dropna(axis=0)\n",
    "\n",
    "denst = DensityFeatures()\n",
    "df = denst.featurize_dataframe(df, \"structure\")\n",
    "\n",
    "df = df.dropna(axis=0)\n",
    "\n",
    "df = df.rename(columns={\"PymatgenData mean melting_point\": \"melting_point\"})\n",
    "df = df.rename(\n",
    "    columns={\"PymatgenData mean thermal_conductivity\": \"thermal_conductivity\"}\n",
    ")\n",
    "\n",
    "df[\"formula\"] = [item.reduced_formula for item in df[\"composition\"]]\n",
    "\n",
    "df = df.drop_duplicates(subset=[\"formula\"])\n",
    "\n",
    "df.reset_index(inplace=True, drop=True)\n",
    "\n",
    "df.to_pickle(\"Dados\")"
   ]
  },
  {
   "cell_type": "code",
   "execution_count": null,
   "metadata": {},
   "outputs": [],
   "source": []
  }
 ],
 "metadata": {
  "kernelspec": {
   "display_name": "Python 3 (ipykernel)",
   "language": "python",
   "name": "python3"
  },
  "language_info": {
   "codemirror_mode": {
    "name": "ipython",
    "version": 3
   },
   "file_extension": ".py",
   "mimetype": "text/x-python",
   "name": "python",
   "nbconvert_exporter": "python",
   "pygments_lexer": "ipython3",
   "version": "3.9.7"
  },
  "vscode": {
   "interpreter": {
    "hash": "6d063d0eb9b70790240e56ee68cef3f76a64b111ac1aab9e33503a2496ae2348"
   }
  }
 },
 "nbformat": 4,
 "nbformat_minor": 4
}
