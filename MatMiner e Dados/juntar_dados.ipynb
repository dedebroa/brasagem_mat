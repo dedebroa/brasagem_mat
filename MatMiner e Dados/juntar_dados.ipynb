{
 "cells": [
  {
   "cell_type": "code",
   "execution_count": 1,
   "metadata": {},
   "outputs": [
    {
     "data": {
      "text/html": [
       "<div>\n",
       "<style scoped>\n",
       "    .dataframe tbody tr th:only-of-type {\n",
       "        vertical-align: middle;\n",
       "    }\n",
       "\n",
       "    .dataframe tbody tr th {\n",
       "        vertical-align: top;\n",
       "    }\n",
       "\n",
       "    .dataframe thead th {\n",
       "        text-align: right;\n",
       "    }\n",
       "</style>\n",
       "<table border=\"1\" class=\"dataframe\">\n",
       "  <thead>\n",
       "    <tr style=\"text-align: right;\">\n",
       "      <th></th>\n",
       "      <th>0</th>\n",
       "      <th>1</th>\n",
       "      <th>2</th>\n",
       "    </tr>\n",
       "  </thead>\n",
       "  <tbody>\n",
       "    <tr>\n",
       "      <th>0</th>\n",
       "      <td>boltztrap_mp</td>\n",
       "      <td>pf_n</td>\n",
       "      <td>pf_p</td>\n",
       "    </tr>\n",
       "    <tr>\n",
       "      <th>1</th>\n",
       "      <td>citrine_thermal_conductivity</td>\n",
       "      <td>k_expt</td>\n",
       "      <td>NaN</td>\n",
       "    </tr>\n",
       "    <tr>\n",
       "      <th>2</th>\n",
       "      <td>ucsb_thermoelectrics</td>\n",
       "      <td>kappa [W/mK]</td>\n",
       "      <td>NaN</td>\n",
       "    </tr>\n",
       "  </tbody>\n",
       "</table>\n",
       "</div>"
      ],
      "text/plain": [
       "                              0             1     2\n",
       "0                  boltztrap_mp          pf_n  pf_p\n",
       "1  citrine_thermal_conductivity        k_expt   NaN\n",
       "2          ucsb_thermoelectrics  kappa [W/mK]   NaN"
      ]
     },
     "execution_count": 1,
     "metadata": {},
     "output_type": "execute_result"
    }
   ],
   "source": [
    "import pandas as pd # biblioteca que permite análise e manipulação de dados\n",
    "from matminer.datasets import load_dataset # biblioteca que reúne dados de materiais e oferece diferentes ferramentas para manipulá-los\n",
    "\n",
    "colunas = pd.read_csv(\"Dados.csv\") \n",
    "colunas"
   ]
  },
  {
   "cell_type": "code",
   "execution_count": 2,
   "metadata": {},
   "outputs": [],
   "source": [
    "datasets = [load_dataset(dataset) for dataset in colunas[\"0\"]]"
   ]
  },
  {
   "cell_type": "code",
   "execution_count": 3,
   "metadata": {},
   "outputs": [],
   "source": [
    "coluna_dadaset1 = list(colunas[[\"1\", \"2\"]].iloc[0]) + [\"formula\", \"structure\"]\n",
    "coluna_dadaset2 = [colunas[\"1\"].iloc[1],\"formula\"]"
   ]
  },
  {
   "cell_type": "code",
   "execution_count": 4,
   "metadata": {},
   "outputs": [],
   "source": [
    "datasets[0] = datasets[0][coluna_dadaset1]\n",
    "datasets[1] = datasets[1][coluna_dadaset2]"
   ]
  },
  {
   "cell_type": "code",
   "execution_count": 5,
   "metadata": {},
   "outputs": [
    {
     "data": {
      "text/plain": [
       "36"
      ]
     },
     "execution_count": 5,
     "metadata": {},
     "output_type": "execute_result"
    }
   ],
   "source": [
    "dados_juntos = pd.merge(datasets[0], datasets[1], on= \"formula\")\n",
    "len(set(dados_juntos[\"formula\"]))"
   ]
  },
  {
   "cell_type": "code",
   "execution_count": 6,
   "metadata": {},
   "outputs": [
    {
     "name": "stderr",
     "output_type": "stream",
     "text": [
      "c:\\Users\\guilherme220044\\Anaconda3\\envs\\IP_venv\\Lib\\site-packages\\tqdm\\auto.py:21: TqdmWarning: IProgress not found. Please update jupyter and ipywidgets. See https://ipywidgets.readthedocs.io/en/stable/user_install.html\n",
      "  from .autonotebook import tqdm as notebook_tqdm\n",
      "ElementProperty:  18%|█▊        | 1640/8924 [05:20<20:15,  5.99it/s]"
     ]
    }
   ],
   "source": [
    "from matminer.featurizers.conversions import StrToComposition # composição estequiométrica\n",
    "from matminer.featurizers.composition import ElementProperty # propriedades dos elementos\n",
    "# ferramentas oferecidas pelo próprio matminer\n",
    "\n",
    "# Carregando o dataset\n",
    "df = datasets[0]\n",
    "\n",
    "stc = StrToComposition()\n",
    "df = stc.featurize_dataframe(df, \"formula\", pbar=False)\n",
    "\n",
    "# Calculando as propriedades dos elementos\n",
    "ep_feat = ElementProperty(\"pymatgen\", [\"melting_point\",\"thermal_conductivity\"],[\"mean\"])\n",
    "ep_feat.set_n_jobs(7)\n",
    "df = ep_feat.featurize_dataframe(df, col_id=\"composition\")\n",
    "\n",
    "# Selecionando as colunas que contém informações sobre condutividade térmica\n",
    "\n"
   ]
  },
  {
   "cell_type": "code",
   "execution_count": null,
   "metadata": {},
   "outputs": [],
   "source": [
    "df = df.dropna(axis=1) # retirando as linhas que possuirem algum dado faltante (NaN, Not a Number)"
   ]
  },
  {
   "cell_type": "code",
   "execution_count": null,
   "metadata": {},
   "outputs": [
    {
     "data": {
      "text/plain": [
       "['density', 'vpa', 'packing fraction']"
      ]
     },
     "execution_count": 56,
     "metadata": {},
     "output_type": "execute_result"
    }
   ],
   "source": [
    "from matminer.featurizers.structure import DensityFeatures\n",
    "\n",
    "densityf = DensityFeatures()\n",
    "\n",
    "densityf.feature_labels() # utilizado para mostrar os dados disponiveis com esse metodo."
   ]
  },
  {
   "cell_type": "code",
   "execution_count": null,
   "metadata": {},
   "outputs": [
    {
     "name": "stderr",
     "output_type": "stream",
     "text": [
      "DensityFeatures: 100%|██████████| 8924/8924 [38:03<00:00,  3.91it/s]   \n"
     ]
    }
   ],
   "source": [
    "df = densityf.featurize_dataframe(df, \"structure\", True, True)"
   ]
  },
  {
   "cell_type": "code",
   "execution_count": null,
   "metadata": {},
   "outputs": [],
   "source": [
    "df = df.rename(columns={\"PymatgenData mean melting_point\":\"melting_point\"})\n",
    "df = df.rename(columns={\"PymatgenData mean thermal_conductivity\":\"thermal_conductivity\"})"
   ]
  },
  {
   "cell_type": "code",
   "execution_count": null,
   "metadata": {},
   "outputs": [
    {
     "data": {
      "text/html": [
       "<div>\n",
       "<style scoped>\n",
       "    .dataframe tbody tr th:only-of-type {\n",
       "        vertical-align: middle;\n",
       "    }\n",
       "\n",
       "    .dataframe tbody tr th {\n",
       "        vertical-align: top;\n",
       "    }\n",
       "\n",
       "    .dataframe thead th {\n",
       "        text-align: right;\n",
       "    }\n",
       "</style>\n",
       "<table border=\"1\" class=\"dataframe\">\n",
       "  <thead>\n",
       "    <tr style=\"text-align: right;\">\n",
       "      <th></th>\n",
       "      <th>pf_n</th>\n",
       "      <th>pf_p</th>\n",
       "      <th>formula</th>\n",
       "      <th>structure</th>\n",
       "      <th>composition</th>\n",
       "      <th>melting_point</th>\n",
       "      <th>thermal_conductivity</th>\n",
       "      <th>density</th>\n",
       "      <th>vpa</th>\n",
       "      <th>packing fraction</th>\n",
       "    </tr>\n",
       "  </thead>\n",
       "  <tbody>\n",
       "    <tr>\n",
       "      <th>1167</th>\n",
       "      <td>0.542</td>\n",
       "      <td>0.0549</td>\n",
       "      <td>H2</td>\n",
       "      <td>[[-1.95019892e-08  2.25189574e+00  1.58892283e...</td>\n",
       "      <td>(H)</td>\n",
       "      <td>14.01</td>\n",
       "      <td>0.1805</td>\n",
       "      <td>0.039976</td>\n",
       "      <td>41.867906</td>\n",
       "      <td>0.001563</td>\n",
       "    </tr>\n",
       "    <tr>\n",
       "      <th>4397</th>\n",
       "      <td>0.694</td>\n",
       "      <td>0.1910</td>\n",
       "      <td>H2</td>\n",
       "      <td>[[-2.56226548e-06  2.96249947e+00  9.52972900e...</td>\n",
       "      <td>(H)</td>\n",
       "      <td>14.01</td>\n",
       "      <td>0.1805</td>\n",
       "      <td>0.038513</td>\n",
       "      <td>43.458888</td>\n",
       "      <td>0.001506</td>\n",
       "    </tr>\n",
       "    <tr>\n",
       "      <th>8656</th>\n",
       "      <td>1.220</td>\n",
       "      <td>0.3600</td>\n",
       "      <td>H2</td>\n",
       "      <td>[[-4.88184487e-18  4.88184487e-18  3.75064620e...</td>\n",
       "      <td>(H)</td>\n",
       "      <td>14.01</td>\n",
       "      <td>0.1805</td>\n",
       "      <td>0.146850</td>\n",
       "      <td>11.397498</td>\n",
       "      <td>0.005742</td>\n",
       "    </tr>\n",
       "  </tbody>\n",
       "</table>\n",
       "</div>"
      ],
      "text/plain": [
       "       pf_n    pf_p formula  \\\n",
       "1167  0.542  0.0549      H2   \n",
       "4397  0.694  0.1910      H2   \n",
       "8656  1.220  0.3600      H2   \n",
       "\n",
       "                                              structure composition  \\\n",
       "1167  [[-1.95019892e-08  2.25189574e+00  1.58892283e...         (H)   \n",
       "4397  [[-2.56226548e-06  2.96249947e+00  9.52972900e...         (H)   \n",
       "8656  [[-4.88184487e-18  4.88184487e-18  3.75064620e...         (H)   \n",
       "\n",
       "      melting_point  thermal_conductivity   density        vpa  \\\n",
       "1167          14.01                0.1805  0.039976  41.867906   \n",
       "4397          14.01                0.1805  0.038513  43.458888   \n",
       "8656          14.01                0.1805  0.146850  11.397498   \n",
       "\n",
       "      packing fraction  \n",
       "1167          0.001563  \n",
       "4397          0.001506  \n",
       "8656          0.005742  "
      ]
     },
     "execution_count": 68,
     "metadata": {},
     "output_type": "execute_result"
    }
   ],
   "source": [
    "df.describe()"
   ]
  },
  {
   "cell_type": "code",
   "execution_count": null,
   "metadata": {},
   "outputs": [
    {
     "name": "stdout",
     "output_type": "stream",
     "text": [
      "Com esses dados temos 7380 moleculas distintas.\n"
     ]
    }
   ],
   "source": [
    "quantidade = len(set(df[\"formula\"]))\n",
    "\n",
    "print(f\"Com esses dados temos {quantidade} moleculas distintas.\")"
   ]
  },
  {
   "cell_type": "code",
   "execution_count": null,
   "metadata": {},
   "outputs": [],
   "source": []
  }
 ],
 "metadata": {
  "kernelspec": {
   "display_name": "IP_venv",
   "language": "python",
   "name": "python3"
  },
  "language_info": {
   "codemirror_mode": {
    "name": "ipython",
    "version": 3
   },
   "file_extension": ".py",
   "mimetype": "text/x-python",
   "name": "python",
   "nbconvert_exporter": "python",
   "pygments_lexer": "ipython3",
   "version": "3.11.3 | packaged by Anaconda, Inc. | (main, Apr 19 2023, 23:46:34) [MSC v.1916 64 bit (AMD64)]"
  },
  "orig_nbformat": 4,
  "vscode": {
   "interpreter": {
    "hash": "9d1fd96f47aae383e5e3b5c7d49ac5aeb0d873c3becb6c9ab6833b565414f502"
   }
  }
 },
 "nbformat": 4,
 "nbformat_minor": 2
}
